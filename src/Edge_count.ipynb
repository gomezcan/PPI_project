{
 "cells": [
  {
   "cell_type": "markdown",
   "metadata": {},
   "source": [
    "# Edges and their frecuencies"
   ]
  },
  {
   "cell_type": "markdown",
   "metadata": {},
   "source": [
    "### Import the libraries necessaries"
   ]
  },
  {
   "cell_type": "code",
   "execution_count": 1,
   "metadata": {},
   "outputs": [],
   "source": [
    "import igraph as ig\n",
    "import pandas as pd\n",
    "import numpy as np\n",
    "from multiprocessing import Pool\n",
    "from time import time"
   ]
  },
  {
   "cell_type": "markdown",
   "metadata": {},
   "source": [
    "### Import the data"
   ]
  },
  {
   "cell_type": "markdown",
   "metadata": {},
   "source": [
    "The data import the different interactions among genes. The data has two columns: one whith 'INTERACTOR_A' and second whith 'INTERACTOR_B', and each row is a pair of genes who interact. So a same gen can appear several times on each column. "
   ]
  },
  {
   "cell_type": "markdown",
   "metadata": {},
   "source": [
    "It's importat you check and change the file paths at your PC. Don't forget it!!"
   ]
  },
  {
   "cell_type": "code",
   "execution_count": 2,
   "metadata": {
    "scrolled": true
   },
   "outputs": [],
   "source": [
    "data=pd.read_csv(\"/home/camilo/Documentos/Andres/Data_inicial.txt\", delimiter='\\t')"
   ]
  },
  {
   "cell_type": "markdown",
   "metadata": {},
   "source": [
    "### Edge Adjusment "
   ]
  },
  {
   "cell_type": "markdown",
   "metadata": {},
   "source": [
    "Here it uses the pandas library to export the list with only interactors list in txt format. Then using Read_Ncol to create a graph just with edge list exported before; finally use simplify() to delete the duplicate edges and leave one of them."
   ]
  },
  {
   "cell_type": "markdown",
   "metadata": {},
   "source": [
    "It's importat you check and change the file paths at your PC. Don't forget it!!"
   ]
  },
  {
   "cell_type": "code",
   "execution_count": 3,
   "metadata": {},
   "outputs": [
    {
     "data": {
      "text/plain": [
       "<igraph.Graph at 0x7fe9d1cb8a90>"
      ]
     },
     "execution_count": 3,
     "metadata": {},
     "output_type": "execute_result"
    }
   ],
   "source": [
    "Edges=data[['INTERACTOR_A','INTERACTOR_B']]\n",
    "Edges.to_csv(\"/home/camilo/Documentos/Andres/Edges.txt\",sep='\\t',index=False,index_label=False,header=False)\n",
    "G=ig.Graph.Read_Ncol(\"/home/camilo/Documentos/Andres/Edges.txt\",names=True,weights=False,directed=False)\n",
    "G.es['Frecuency']=G.count_multiple()\n",
    "G.simplify(combine_edges='first')"
   ]
  },
  {
   "cell_type": "markdown",
   "metadata": {},
   "source": [
    "## Comparing the gen ID's with a new list"
   ]
  },
  {
   "cell_type": "markdown",
   "metadata": {},
   "source": [
    "The list which we want compare is imported.\n",
    "\n",
    "It's importat you check and change the file paths at your PC. Don't forget it!!"
   ]
  },
  {
   "cell_type": "code",
   "execution_count": 4,
   "metadata": {},
   "outputs": [],
   "source": [
    "global New_list_ID"
   ]
  },
  {
   "cell_type": "code",
   "execution_count": 5,
   "metadata": {},
   "outputs": [],
   "source": [
    "New_list_ID=pd.read_csv('/home/camilo/Documentos/Andres/At_TFs_iTAK.txt', delimiter='\\t',header=None)\n",
    "New_list_ID=New_list_ID.rename(columns={0:'ID',1:'Family',2:'Type'})"
   ]
  },
  {
   "cell_type": "markdown",
   "metadata": {},
   "source": [
    "Here it declarates the list of edges with the name gen"
   ]
  },
  {
   "cell_type": "code",
   "execution_count": 6,
   "metadata": {},
   "outputs": [],
   "source": [
    "Vs=pd.DataFrame(ig.VertexSeq(G)['name']).to_dict()\n",
    "Edges=pd.DataFrame(G.get_edgelist())\n",
    "Edges.replace(Vs[0],inplace=True)\n",
    "Edges=Edges.rename(columns={0:'INTERACTOR_A',1:'INTERACTOR_B'})"
   ]
  },
  {
   "cell_type": "markdown",
   "metadata": {},
   "source": [
    "This couples_TF function states if a edges is found at the new list, or if any node of edge is on it."
   ]
  },
  {
   "cell_type": "code",
   "execution_count": 7,
   "metadata": {},
   "outputs": [],
   "source": [
    "def Couples_TF(edge):\n",
    "    place_1=np.where(edge[0]==New_list_ID.to_numpy()[:,0])\n",
    "    place_2=np.where(edge[1]==New_list_ID.to_numpy()[:,0])\n",
    "    if(np.array(place_1[0]).any()!=0 and np.array(place_2[0]).any()!=0):\n",
    "        bool=True\n",
    "        x=True\n",
    "        y=True\n",
    "        return [bool,x,y]\n",
    "    elif(np.array(place_1[0]).any()!=0 or np.array(place_2[0]).any()!=0):\n",
    "        bool=False\n",
    "        x=np.array(place_1[0]).any()!=0\n",
    "        y=np.array(place_2[0]).any()!=0\n",
    "        return [bool,x,y]\n",
    "    else:\n",
    "        x=False\n",
    "        y=False\n",
    "        bool=False\n",
    "        return [bool,x,y]"
   ]
  },
  {
   "cell_type": "markdown",
   "metadata": {},
   "source": [
    "Parallelization process"
   ]
  },
  {
   "cell_type": "code",
   "execution_count": 8,
   "metadata": {},
   "outputs": [
    {
     "name": "stdout",
     "output_type": "stream",
     "text": [
      "process time: 0.03089761734008789 s\n"
     ]
    }
   ],
   "source": [
    "pool=Pool() #Here define the number of cores, you can change depending of your PC\n",
    "start_time=time()\n",
    "result=pool.map(Couples_TF,Edges.to_numpy())\n",
    "end_time=time()-start_time\n",
    "pool.close()\n",
    "pool.join()\n",
    "print('process time:' ,end_time,'s')"
   ]
  },
  {
   "cell_type": "code",
   "execution_count": 9,
   "metadata": {},
   "outputs": [
    {
     "data": {
      "text/html": [
       "<div>\n",
       "<style scoped>\n",
       "    .dataframe tbody tr th:only-of-type {\n",
       "        vertical-align: middle;\n",
       "    }\n",
       "\n",
       "    .dataframe tbody tr th {\n",
       "        vertical-align: top;\n",
       "    }\n",
       "\n",
       "    .dataframe thead th {\n",
       "        text-align: right;\n",
       "    }\n",
       "</style>\n",
       "<table border=\"1\" class=\"dataframe\">\n",
       "  <thead>\n",
       "    <tr style=\"text-align: right;\">\n",
       "      <th></th>\n",
       "      <th>INTERACTOR_A</th>\n",
       "      <th>INTERACTOR_B</th>\n",
       "      <th>TF_both</th>\n",
       "      <th>TF_A</th>\n",
       "      <th>TF_B</th>\n",
       "    </tr>\n",
       "  </thead>\n",
       "  <tbody>\n",
       "    <tr>\n",
       "      <th>0</th>\n",
       "      <td>AT4G00020</td>\n",
       "      <td>AT5G20850</td>\n",
       "      <td>False</td>\n",
       "      <td>False</td>\n",
       "      <td>False</td>\n",
       "    </tr>\n",
       "    <tr>\n",
       "      <th>1</th>\n",
       "      <td>AT4G00020</td>\n",
       "      <td>AT3G22880</td>\n",
       "      <td>False</td>\n",
       "      <td>False</td>\n",
       "      <td>False</td>\n",
       "    </tr>\n",
       "    <tr>\n",
       "      <th>2</th>\n",
       "      <td>AT5G61380</td>\n",
       "      <td>AT2G43010</td>\n",
       "      <td>True</td>\n",
       "      <td>True</td>\n",
       "      <td>True</td>\n",
       "    </tr>\n",
       "    <tr>\n",
       "      <th>3</th>\n",
       "      <td>AT5G61380</td>\n",
       "      <td>AT3G59060</td>\n",
       "      <td>True</td>\n",
       "      <td>True</td>\n",
       "      <td>True</td>\n",
       "    </tr>\n",
       "    <tr>\n",
       "      <th>4</th>\n",
       "      <td>AT5G61380</td>\n",
       "      <td>AT2G46790</td>\n",
       "      <td>True</td>\n",
       "      <td>True</td>\n",
       "      <td>True</td>\n",
       "    </tr>\n",
       "    <tr>\n",
       "      <th>...</th>\n",
       "      <td>...</td>\n",
       "      <td>...</td>\n",
       "      <td>...</td>\n",
       "      <td>...</td>\n",
       "      <td>...</td>\n",
       "    </tr>\n",
       "    <tr>\n",
       "      <th>103</th>\n",
       "      <td>AT5G11260</td>\n",
       "      <td>AT1G56650</td>\n",
       "      <td>True</td>\n",
       "      <td>True</td>\n",
       "      <td>True</td>\n",
       "    </tr>\n",
       "    <tr>\n",
       "      <th>104</th>\n",
       "      <td>AT4G02570</td>\n",
       "      <td>AT5G25350</td>\n",
       "      <td>False</td>\n",
       "      <td>False</td>\n",
       "      <td>False</td>\n",
       "    </tr>\n",
       "    <tr>\n",
       "      <th>105</th>\n",
       "      <td>AT4G02570</td>\n",
       "      <td>AT2G25490</td>\n",
       "      <td>False</td>\n",
       "      <td>False</td>\n",
       "      <td>False</td>\n",
       "    </tr>\n",
       "    <tr>\n",
       "      <th>106</th>\n",
       "      <td>AT4G02570</td>\n",
       "      <td>AT5G20570</td>\n",
       "      <td>False</td>\n",
       "      <td>False</td>\n",
       "      <td>False</td>\n",
       "    </tr>\n",
       "    <tr>\n",
       "      <th>107</th>\n",
       "      <td>AT4G02570</td>\n",
       "      <td>AT2G02560</td>\n",
       "      <td>False</td>\n",
       "      <td>False</td>\n",
       "      <td>False</td>\n",
       "    </tr>\n",
       "  </tbody>\n",
       "</table>\n",
       "<p>108 rows × 5 columns</p>\n",
       "</div>"
      ],
      "text/plain": [
       "    INTERACTOR_A INTERACTOR_B  TF_both   TF_A   TF_B\n",
       "0      AT4G00020    AT5G20850    False  False  False\n",
       "1      AT4G00020    AT3G22880    False  False  False\n",
       "2      AT5G61380    AT2G43010     True   True   True\n",
       "3      AT5G61380    AT3G59060     True   True   True\n",
       "4      AT5G61380    AT2G46790     True   True   True\n",
       "..           ...          ...      ...    ...    ...\n",
       "103    AT5G11260    AT1G56650     True   True   True\n",
       "104    AT4G02570    AT5G25350    False  False  False\n",
       "105    AT4G02570    AT2G25490    False  False  False\n",
       "106    AT4G02570    AT5G20570    False  False  False\n",
       "107    AT4G02570    AT2G02560    False  False  False\n",
       "\n",
       "[108 rows x 5 columns]"
      ]
     },
     "execution_count": 9,
     "metadata": {},
     "output_type": "execute_result"
    }
   ],
   "source": [
    "Edges['TF_both']=np.array(result)[:,0]\n",
    "Edges['TF_A']=np.array(result)[:,1]\n",
    "Edges['TF_B']=np.array(result)[:,2]\n",
    "Edges"
   ]
  }
 ],
 "metadata": {
  "kernelspec": {
   "display_name": "Python 3",
   "language": "python",
   "name": "python3"
  },
  "language_info": {
   "codemirror_mode": {
    "name": "ipython",
    "version": 3
   },
   "file_extension": ".py",
   "mimetype": "text/x-python",
   "name": "python",
   "nbconvert_exporter": "python",
   "pygments_lexer": "ipython3",
   "version": "3.8.3"
  }
 },
 "nbformat": 4,
 "nbformat_minor": 4
}
