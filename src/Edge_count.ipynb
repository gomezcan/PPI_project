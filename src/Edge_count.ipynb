{
 "cells": [
  {
   "cell_type": "markdown",
   "metadata": {},
   "source": [
    "# Edges and their frecuencies"
   ]
  },
  {
   "cell_type": "markdown",
   "metadata": {},
   "source": [
    "### Import the libraries necessaries"
   ]
  },
  {
   "cell_type": "code",
   "execution_count": 1,
   "metadata": {},
   "outputs": [],
   "source": [
    "import igraph as ig\n",
    "import pandas as pd\n",
    "import numpy as np"
   ]
  },
  {
   "cell_type": "markdown",
   "metadata": {},
   "source": [
    "### Import the data"
   ]
  },
  {
   "cell_type": "markdown",
   "metadata": {},
   "source": [
    "The data import the different interactions among genes. The data has two columns: one whith 'INTERACTOR_A' and second whith 'INTERACTOR_B', and each row is a pair of genes who interact. So a same gen can appear several times on each column. "
   ]
  },
  {
   "cell_type": "code",
   "execution_count": 28,
   "metadata": {
    "scrolled": true
   },
   "outputs": [],
   "source": [
    "data=pd.read_csv(\"/home/camilo/Documentos/Andres/Data_inicial.txt\", delimiter='\\t')"
   ]
  },
  {
   "cell_type": "markdown",
   "metadata": {},
   "source": [
    "### Data Adjusment "
   ]
  },
  {
   "cell_type": "markdown",
   "metadata": {},
   "source": [
    "Here it uses the pandas library to remove the duplicated nodes and just leave one of them."
   ]
  },
  {
   "cell_type": "code",
   "execution_count": 23,
   "metadata": {},
   "outputs": [],
   "source": [
    "Edges=data[['INTERACTOR_A','INTERACTOR_B']]\n",
    "Nodos=data['INTERACTOR_A']\n",
    "Nodos=Nodos.append(data['INTERACTOR_B'],ignore_index=True)\n",
    "Nodos=Nodos.drop_duplicates(keep='first')\n",
    "Nodos=np.array(Nodos)\n",
    "Edges=np.array(Edges)"
   ]
  },
  {
   "cell_type": "markdown",
   "metadata": {},
   "source": [
    "The graph is created with igraph library and simplified by removing the multiple and self loop edges and keeping the frecuency attribute of each one"
   ]
  },
  {
   "cell_type": "code",
   "execution_count": 33,
   "metadata": {},
   "outputs": [
    {
     "data": {
      "text/plain": [
       "<igraph.Graph at 0x7f94a64238b0>"
      ]
     },
     "execution_count": 33,
     "metadata": {},
     "output_type": "execute_result"
    }
   ],
   "source": [
    "G=ig.Graph()\n",
    "G.add_vertices(Nodos)\n",
    "G.add_edges(Edges)\n",
    "G.es['Frecuency']=G.count_multiple()\n",
    "G.simplify(combine_edges='first')"
   ]
  }
 ],
 "metadata": {
  "kernelspec": {
   "display_name": "Python 3",
   "language": "python",
   "name": "python3"
  },
  "language_info": {
   "codemirror_mode": {
    "name": "ipython",
    "version": 3
   },
   "file_extension": ".py",
   "mimetype": "text/x-python",
   "name": "python",
   "nbconvert_exporter": "python",
   "pygments_lexer": "ipython3",
   "version": "3.8.3"
  }
 },
 "nbformat": 4,
 "nbformat_minor": 4
}
