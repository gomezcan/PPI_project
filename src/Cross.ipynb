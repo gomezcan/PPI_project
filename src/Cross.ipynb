{
 "cells": [
  {
   "cell_type": "code",
   "execution_count": 1,
   "metadata": {},
   "outputs": [],
   "source": [
    "import numpy as np\n",
    "import igraph as ig\n",
    "import pandas as pd\n",
    "from sklearn.model_selection import train_test_split\n",
    "from sklearn import svm"
   ]
  },
  {
   "cell_type": "markdown",
   "metadata": {},
   "source": [
    "# Prediction L3"
   ]
  },
  {
   "cell_type": "code",
   "execution_count": 2,
   "metadata": {},
   "outputs": [],
   "source": [
    "data=pd.read_csv(\"~/Projects/datos_camilo/HI-II-14.tsv\", delimiter='\\t',header=None)\n",
    "data=data.rename(columns={0:'INTERACTOR_A',1:'INTERACTOR_B'})"
   ]
  },
  {
   "cell_type": "code",
   "execution_count": 3,
   "metadata": {},
   "outputs": [
    {
     "data": {
      "text/plain": [
       "<igraph.Graph at 0x7f016bac2318>"
      ]
     },
     "execution_count": 3,
     "metadata": {},
     "output_type": "execute_result"
    }
   ],
   "source": [
    "Edges=data[['INTERACTOR_A','INTERACTOR_B']]\n",
    "Edges.to_csv(\"~/Projects/datos_camilo/Edges.txt\",sep='\\t',index=False,index_label=False,header=False)\n",
    "G=ig.Graph.Read_Ncol(\"/maindisk/fabio/Projects/datos_camilo/Edges.txt\",directed=False)\n",
    "G.es['Frecuency']=G.count_multiple()\n",
    "G.simplify(multiple=True, loops=False, combine_edges='first')"
   ]
  },
  {
   "cell_type": "code",
   "execution_count": 4,
   "metadata": {},
   "outputs": [],
   "source": [
    "def Matrix_L3(A):\n",
    "    diag, P=np.linalg.eig(A)\n",
    "    a=len(diag)\n",
    "    D=np.identity(a)\n",
    "    D=np.multiply(D,diag)\n",
    "    DN=np.linalg.matrix_power(D,3)\n",
    "    P1=P.transpose()\n",
    "    A_3=P*DN*P1\n",
    "    A_3=abs(np.ceil(A_3.real)).astype(int)\n",
    "    return A_3"
   ]
  },
  {
   "cell_type": "code",
   "execution_count": 5,
   "metadata": {},
   "outputs": [],
   "source": [
    "A=np.matrix(G.get_adjacency().data)\n",
    "vertics=np.array(1/np.sqrt(G.vs().degree()))\n",
    "B=np.multiply(A,vertics)\n",
    "B_2=B*B*A"
   ]
  },
  {
   "cell_type": "code",
   "execution_count": 6,
   "metadata": {},
   "outputs": [],
   "source": [
    "A_3=Matrix_L3(A)"
   ]
  },
  {
   "cell_type": "code",
   "execution_count": 7,
   "metadata": {},
   "outputs": [],
   "source": [
    "L=np.where(B_2!=0)"
   ]
  },
  {
   "cell_type": "code",
   "execution_count": 8,
   "metadata": {},
   "outputs": [],
   "source": [
    "lista={'INTERACTOR_A':L[0],'INTERACTOR_B':L[1]}\n",
    "List=pd.DataFrame(lista)\n",
    "List['Prediction']=np.array(B_2[L])[0]\n",
    "List.to_csv('/maindisk/fabio/Projects/datos_camilo/hii_ii_14_predictions.txt',sep='\\t',index=False,index_label=False,header=False)"
   ]
  }
 ],
 "metadata": {
  "kernelspec": {
   "display_name": "Python 3",
   "language": "python",
   "name": "python3"
  },
  "language_info": {
   "codemirror_mode": {
    "name": "ipython",
    "version": 3
   },
   "file_extension": ".py",
   "mimetype": "text/x-python",
   "name": "python",
   "nbconvert_exporter": "python",
   "pygments_lexer": "ipython3",
   "version": "3.7.3"
  }
 },
 "nbformat": 4,
 "nbformat_minor": 2
}
